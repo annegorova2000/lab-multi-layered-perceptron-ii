{
 "cells": [
  {
   "cell_type": "markdown",
   "metadata": {},
   "source": [
    "## Лабораторная работа по курсу \"Искусственный интеллект\"\n",
    "## Многослойный персептрон\n",
    "\n",
    "| Студент | Егорова А. В. |\n",
    "|-----------|--------------|\n",
    "|  Группа   |  М8О-307Б-18 |\n",
    "\n",
    "Для начала, скачаем датасет MNIST. Используйте `wget` или `curl`, либо скачайте вручную [по ссылке](https://raw.githubusercontent.com/shwars/NeuroWorkshop/master/Data/MNIST/mnist.pkl.gz)."
   ]
  },
  {
   "cell_type": "code",
   "execution_count": 30,
   "metadata": {
    "tags": []
   },
   "outputs": [],
   "source": [
    "#!wget https://raw.githubusercontent.com/shwars/NeuroWorkshop/master/Data/MNIST/mnist.pkl.gz\n",
    "#!curl -o mnist.pkl.gz https://raw.githubusercontent.com/shwars/NeuroWorkshop/master/Data/MNIST/mnist.pkl.gz\n",
    "#!gzip -d mnist.pkl.gz"
   ]
  },
  {
   "cell_type": "markdown",
   "metadata": {},
   "source": [
    "Теперь загружаем датасет:"
   ]
  },
  {
   "cell_type": "code",
   "execution_count": 31,
   "metadata": {},
   "outputs": [
    {
     "name": "stdout",
     "output_type": "stream",
     "text": [
      "mnist.pkl opened\n"
     ]
    }
   ],
   "source": [
    "import numpy as np\n",
    "import my_framework\n",
    "from sklearn.metrics import accuracy_score\n",
    "import pickle\n",
    "filename = 'mnist.pkl'\n",
    "with open(filename,'rb') as f:\n",
    "    MNIST = pickle.load(f)\n",
    "print(f'{filename} opened')"
   ]
  },
  {
   "cell_type": "markdown",
   "metadata": {},
   "source": [
    "Разбиение данных на обучающую и тестовую выборку:"
   ]
  },
  {
   "cell_type": "code",
   "execution_count": 32,
   "metadata": {},
   "outputs": [
    {
     "name": "stdout",
     "output_type": "stream",
     "text": [
      "splitted\n"
     ]
    }
   ],
   "source": [
    "labels = MNIST['Train']['Labels']\n",
    "data = MNIST['Train']['Features'].astype(np.float32) / 256.\n",
    "X_train, X_test = np.split(data, [data.shape[0]*8//10])\n",
    "y_train, y_test = np.split(labels, [labels.shape[0]*8//10])\n",
    "print('splitted')"
   ]
  },
  {
   "cell_type": "code",
   "execution_count": 33,
   "metadata": {},
   "outputs": [
    {
     "name": "stdout",
     "output_type": "stream",
     "text": [
      "Testing accuracy: 0.9079761904761905\n",
      "Train accuracy: 0.9267261904761904\n",
      "0.25864619948892303\n",
      "0.9267261904761904\n"
     ]
    },
    {
     "data": {
      "image/png": "[encoded data removed]",
      "text/plain": [
       "<Figure size 432x288 with 1 Axes>"
      ]
     },
     "metadata": {
      "needs_background": "light"
     },
     "output_type": "display_data"
    }
   ],
   "source": [
    "model = my_framework.Net()\n",
    "model.fit(X_train, y_train, n_epoch=25, batch_size=4, lr=0.1, X_test=X_test, y_test=y_test, snaps=True)\n",
    "l, acc = model.get_loss_acc(X_train, y_train)\n",
    "print(\"Testing acc: {test_acc}\".format(test_acc=accuracy_score(model.predict(X_test), y_test)))\n",
    "print(\"Train acc: {train_acc}\".format(train_acc=accuracy_score(model.predict(X_train), y_train)))\n",
    "print(l, acc, sep='\\n')\n",
    "model.plot()"
   ]
  },
  {
   "cell_type": "markdown",
   "metadata": {},
   "source": [
    "Нейросеть не переобучилась, так как разница между метриками мала."
   ]
  }
 ],
 "metadata": {
  "kernelspec": {
   "display_name": "Python 3",
   "language": "python",
   "name": "python3"
  },
  "language_info": {
   "codemirror_mode": {
    "name": "ipython",
    "version": 3
   },
   "file_extension": ".py",
   "mimetype": "text/x-python",
   "name": "python",
   "nbconvert_exporter": "python",
   "pygments_lexer": "ipython3",
   "version": "3.9.2"
  }
 },
 "nbformat": 4,
 "nbformat_minor": 4
}
