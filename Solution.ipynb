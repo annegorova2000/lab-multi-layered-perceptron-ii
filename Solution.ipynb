{
 "cells": [
  {
   "cell_type": "markdown",
   "metadata": {},
   "source": [
    "# Лабораторная работа по курсу \"Искусственный интеллект\"\n",
    "# Многослойный персептрон\n",
    "\n",
    "|Студент | Егорова А. В. |\n",
    "|---------|--------|\n",
    "|Группа | М8О-307Б-18  |\n",
    "\n"
   ]
  },
  {
   "cell_type": "markdown",
   "metadata": {},
   "source": [
    "## Подготовка данных"
   ]
  },
  {
   "cell_type": "code",
   "execution_count": 1,
   "metadata": {},
   "outputs": [],
   "source": [
    "import numpy as np\n",
    "import tensorflow as tf\n",
    "\n",
    "TRAIN_COUNT = 60000\n",
    "TEST_COUNT = 10000"
   ]
  },
  {
   "cell_type": "markdown",
   "metadata": {},
   "source": [
    "Подготовка датасетов MNIST и FashionMNIST."
   ]
  },
  {
   "cell_type": "code",
   "execution_count": 2,
   "metadata": {},
   "outputs": [],
   "source": [
    "(x_train1, y_train1), (x_test1, y_test1) = tf.keras.datasets.mnist.load_data()\n",
    "(x_train2, y_train2), (x_test2, y_test2) = tf.keras.datasets.fashion_mnist.load_data()"
   ]
  },
  {
   "cell_type": "code",
   "execution_count": 3,
   "metadata": {},
   "outputs": [],
   "source": [
    "x_train1, x_test1 = x_train1.reshape(TRAIN_COUNT, 784).astype('float32') / 255.0, x_test1.reshape(TEST_COUNT, 784).astype('float32') / 255.0\n",
    "x_train2, x_test2 = x_train2.reshape(TRAIN_COUNT, 784).astype('float32') / 255.0, x_test2.reshape(TEST_COUNT, 784).astype('float32') / 255.0"
   ]
  },
  {
   "cell_type": "markdown",
   "metadata": {},
   "source": [
    "Разделение выборки на тренировочную и тестирующую."
   ]
  },
  {
   "cell_type": "code",
   "execution_count": 4,
   "metadata": {},
   "outputs": [],
   "source": [
    "# MNIST\n",
    "dataset1 = tf.data.Dataset.from_tensor_slices((x_train1, y_train1))\n",
    "dataset1 = dataset1.shuffle(buffer_size=1024).batch(64)\n",
    "\n",
    "# FashionMNIST\n",
    "dataset2 = tf.data.Dataset.from_tensor_slices((x_train2, y_train2))\n",
    "dataset2 = dataset2.shuffle(buffer_size=1024).batch(64)"
   ]
  },
  {
   "cell_type": "markdown",
   "metadata": {},
   "source": [
    "## Обучение"
   ]
  },
  {
   "cell_type": "code",
   "execution_count": 5,
   "metadata": {},
   "outputs": [],
   "source": [
    "def training(dataset, cur_x_test, cur_y_test, loss, accuracy, optimizer):\n",
    "   \n",
    "    # 1 layer\n",
    "    \n",
    "    model = tf.keras.Sequential([\n",
    "        tf.keras.layers.Dense(10)\n",
    "    ])\n",
    "    model.compile(loss=loss, metrics=[accuracy], optimizer=optimizer)\n",
    "    h = model.fit(dataset, epochs=3, batch_size=None, verbose=0)\n",
    "    score = model.evaluate(cur_x_test, cur_y_test, verbose=0)\n",
    "\n",
    "    print(\"Layers: 1\")\n",
    "    print(\"Testing loss:\", score[0])\n",
    "    print(\"Testing accuracy:\", score[1])\n",
    "    print(\"Loss:\", h.history['loss'][-1])\n",
    "    print(\"Accuracy:\", h.history['sparse_categorical_accuracy'][-1], '\\n')\n",
    "\n",
    "    # 2 layers, tahn\n",
    "\n",
    "    model = tf.keras.Sequential([\n",
    "        tf.keras.layers.Dense(256, activation=tf.nn.tanh),\n",
    "        tf.keras.layers.Dense(10)\n",
    "    ])\n",
    "    model.compile(loss=loss, metrics=[accuracy], optimizer=optimizer)\n",
    "    h = model.fit(dataset, epochs=3, batch_size=None, verbose=0)\n",
    "    score = model.evaluate(cur_x_test, cur_y_test, verbose=0)\n",
    "\n",
    "\n",
    "    print(\"Layers: 2, func: tanh\")\n",
    "    print(\"Testing loss:\", score[0])\n",
    "    print(\"Testing accuracy:\", score[1])\n",
    "    print(\"Loss:\", h.history['loss'][-1])\n",
    "    print(\"Accuracy:\", h.history['sparse_categorical_accuracy'][-1], '\\n')\n",
    "\n",
    "    # 2 layers, sigmoid\n",
    "\n",
    "    model = tf.keras.Sequential([\n",
    "        tf.keras.layers.Dense(256, activation=tf.nn.sigmoid),\n",
    "        tf.keras.layers.Dense(10)\n",
    "    ])\n",
    "    model.compile(loss=loss, metrics=[accuracy], optimizer=optimizer)\n",
    "    h = model.fit(dataset, epochs=3, batch_size=None, verbose=0)\n",
    "    score = model.evaluate(cur_x_test, cur_y_test, verbose=0)\n",
    "\n",
    "    print(\"Layers: 2, func: sigmoid\")\n",
    "    print(\"Testing loss:\", score[0])\n",
    "    print(\"Testing accuracy:\", score[1])\n",
    "    print(\"Loss:\", h.history['loss'][-1])\n",
    "    print(\"Accuracy:\", h.history['sparse_categorical_accuracy'][-1], '\\n')\n",
    "\n",
    "    # 3 layers, tahn & sigmoid\n",
    "\n",
    "    model = tf.keras.Sequential([\n",
    "        tf.keras.layers.Dense(256, activation=tf.nn.tanh),\n",
    "        tf.keras.layers.Dense(512, activation=tf.nn.sigmoid),\n",
    "        tf.keras.layers.Dense(10)\n",
    "    ])\n",
    "    model.compile(loss=loss, metrics=[accuracy], optimizer=optimizer)\n",
    "    h = model.fit(dataset, epochs=3, batch_size=None, verbose=0)\n",
    "    score = model.evaluate(cur_x_test, cur_y_test, verbose=0)\n",
    "\n",
    "    print(\"3 layers with tanh & sigmoid\")\n",
    "    print(\"Testing loss:\", score[0])\n",
    "    print(\"Testing accuracy:\", score[1])\n",
    "    print(\"Loss:\", h.history['loss'][-1])\n",
    "    print(\"Accuracy:\", h.history['sparse_categorical_accuracy'][-1], '\\n')\n",
    "    \n",
    "    \n",
    "    # 3 layers, 2 sigmoid\n",
    "\n",
    "    model = tf.keras.Sequential([\n",
    "        tf.keras.layers.Dense(256, activation=tf.nn.sigmoid),\n",
    "        tf.keras.layers.Dense(512, activation=tf.nn.sigmoid),\n",
    "        tf.keras.layers.Dense(10)\n",
    "    ])\n",
    "    model.compile(loss=loss, metrics=[accuracy], optimizer=optimizer)\n",
    "    h = model.fit(dataset, epochs=3, batch_size=None, verbose=0)\n",
    "    score = model.evaluate(cur_x_test, cur_y_test, verbose=0)\n",
    "\n",
    "    print(\"3 layers with sigmoid & sigmoid\")\n",
    "    print(\"Testing loss:\", score[0])\n",
    "    print(\"Testing accuracy:\", score[1])\n",
    "    print(\"Loss:\", h.history['loss'][-1])\n",
    "    print(\"Accuracy:\", h.history['sparse_categorical_accuracy'][-1], '\\n')\n"
   ]
  },
  {
   "cell_type": "markdown",
   "metadata": {},
   "source": [
    "MNIST:"
   ]
  },
  {
   "cell_type": "code",
   "execution_count": 6,
   "metadata": {},
   "outputs": [
    {
     "name": "stdout",
     "output_type": "stream",
     "text": [
      "1 layer\n",
      "Loss: 0.29682064056396484\n",
      "Accuracy: 0.9171666502952576\n",
      "Testing loss: 0.2831864356994629\n",
      "Testing accuracy: 0.9203000068664551\n",
      "\n",
      "2 layers with tanh\n",
      "Loss: 0.07422779500484467\n",
      "Accuracy: 0.9781833291053772\n",
      "Testing loss: 0.08824454247951508\n",
      "Testing accuracy: 0.9710999727249146\n",
      "\n",
      "2 layers with sigmoid\n",
      "Loss: 0.12220337986946106\n",
      "Accuracy: 0.9643499851226807\n",
      "Testing loss: 0.11839892715215683\n",
      "Testing accuracy: 0.964900016784668\n",
      "\n",
      "3 layers with tanh & sigmoid\n",
      "Loss: 0.061952199786901474\n",
      "Accuracy: 0.9812833070755005\n",
      "Testing loss: 0.08688589930534363\n",
      "Testing accuracy: 0.9732000231742859\n",
      "\n",
      "3 layers with sigmoid & sigmoid\n",
      "Loss: 0.08046679198741913\n",
      "Accuracy: 0.9756333231925964\n",
      "Testing loss: 0.08865723013877869\n",
      "Testing accuracy: 0.9718999862670898\n",
      "\n"
     ]
    }
   ],
   "source": [
    "training(\n",
    "    dataset = dataset1,\n",
    "    cur_x_test = x_test1,\n",
    "    cur_y_test = y_test1,\n",
    "    loss = tf.keras.losses.SparseCategoricalCrossentropy(from_logits=True),\n",
    "    accuracy = tf.keras.metrics.SparseCategoricalAccuracy(),\n",
    "    optimizer = tf.keras.optimizers.Adam())\n"
   ]
  },
  {
   "cell_type": "markdown",
   "metadata": {},
   "source": [
    "Fashion MNIST:"
   ]
  },
  {
   "cell_type": "code",
   "execution_count": 7,
   "metadata": {},
   "outputs": [
    {
     "name": "stdout",
     "output_type": "stream",
     "text": [
      "1 layer\n",
      "Loss: 0.4498845040798187\n",
      "Accuracy: 0.8461499810218811\n",
      "Testing loss: 0.46982303261756897\n",
      "Testing accuracy: 0.8377000093460083\n",
      "\n",
      "2 layers with tanh\n",
      "Loss: 0.3211295008659363\n",
      "Accuracy: 0.8818666934967041\n",
      "Testing loss: 0.35889381170272827\n",
      "Testing accuracy: 0.8698999881744385\n",
      "\n",
      "2 layers with sigmoid\n",
      "Loss: 0.3372385501861572\n",
      "Accuracy: 0.878083348274231\n",
      "Testing loss: 0.37622344493865967\n",
      "Testing accuracy: 0.8655999898910522\n",
      "\n",
      "3 layers with tanh & sigmoid\n",
      "Loss: 0.3161698281764984\n",
      "Accuracy: 0.8827666640281677\n",
      "Testing loss: 0.3530091941356659\n",
      "Testing accuracy: 0.8723000288009644\n",
      "\n",
      "3 layers with sigmoid & sigmoid\n",
      "Loss: 0.3211168348789215\n",
      "Accuracy: 0.8819166421890259\n",
      "Testing loss: 0.3716796636581421\n",
      "Testing accuracy: 0.8622000217437744\n",
      "\n"
     ]
    }
   ],
   "source": [
    "training(\n",
    "    dataset = dataset2,\n",
    "    cur_x_test = x_test2,\n",
    "    cur_y_test = y_test2,\n",
    "    loss = tf.keras.losses.SparseCategoricalCrossentropy(from_logits=True),\n",
    "    accuracy = tf.keras.metrics.SparseCategoricalAccuracy(),\n",
    "    optimizer = tf.keras.optimizers.Adam())\n"
   ]
  },
  {
   "cell_type": "markdown",
   "metadata": {},
   "source": [
    "Наибольшая точность достигается в последнем случае."
   ]
  },
  {
   "cell_type": "markdown",
   "metadata": {},
   "source": [
    "## Сравнение полученных показателей точности модели для различных гиперпараметров"
   ]
  },
  {
   "cell_type": "markdown",
   "metadata": {},
   "source": [
    "В качестве гиперпараметра берем ширину внутренних слоёв."
   ]
  },
  {
   "cell_type": "code",
   "execution_count": 8,
   "metadata": {},
   "outputs": [
    {
     "name": "stdout",
     "output_type": "stream",
     "text": [
      "3 layers with sigmoid & sigmoid (256х256)\n",
      "Loss: 0.3576737940311432\n",
      "Accuracy: 0.8683500289916992\n",
      "Testing loss: 0.37277960777282715\n",
      "Testing accuracy: 0.8694000244140625\n",
      "\n",
      "3 layers with sigmoid & sigmoid (512х256)\n",
      "Loss: 0.3512374758720398\n",
      "Accuracy: 0.8713833093643188\n",
      "Testing loss: 0.3950679302215576\n",
      "Testing accuracy: 0.8561999797821045\n",
      "\n",
      "3 layers with sigmoid & sigmoid (512х512)\n",
      "Loss: 0.3146817982196808\n",
      "Accuracy: 0.8841333389282227\n",
      "Testing loss: 0.3521001636981964\n",
      "Testing accuracy: 0.8733000159263611\n",
      "\n"
     ]
    }
   ],
   "source": [
    "loss = tf.keras.losses.SparseCategoricalCrossentropy(from_logits=True)\n",
    "accuracy = tf.keras.metrics.SparseCategoricalAccuracy()\n",
    "optimizer = tf.keras.optimizers.Adam()\n",
    "dataset = dataset2\n",
    "epochs = 3\n",
    "cur_x_test = x_test2\n",
    "cur_y_test = y_test2\n",
    "\n",
    "test_h1 = 256\n",
    "test_w1 = 256\n",
    "\n",
    "model = tf.keras.Sequential([\n",
    "    tf.keras.layers.Dense(test_h1, activation=tf.nn.sigmoid),\n",
    "    tf.keras.layers.Dense(test_w1, activation=tf.nn.sigmoid),\n",
    "    tf.keras.layers.Dense(10)\n",
    "])\n",
    "\n",
    "model.compile(loss=loss,\n",
    "              metrics=[accuracy],\n",
    "              optimizer=tf.keras.optimizers.Adam())\n",
    "h1 = model.fit(dataset, epochs=epochs, batch_size=None, verbose=0)\n",
    "score = model.evaluate(cur_x_test, cur_y_test, verbose=0)\n",
    "pred1 = np.argmax(model.predict(cur_x_test, verbose=0), axis=1)\n",
    "\n",
    "print(f\"3 layers with sigmoid & sigmoid ({test_h1}х{test_w1})\")\n",
    "print(\"Testing loss:\", score[0])\n",
    "print(\"Testing accuracy:\", score[1])\n",
    "print(\"Loss:\", h1.history['loss'][-1])\n",
    "print(\"Accuracy:\", h1.history['sparse_categorical_accuracy'][-1], '\\n')\n",
    "\n",
    "test_h2 = 512\n",
    "test_w2 = 256\n",
    "\n",
    "model = tf.keras.Sequential([\n",
    "    tf.keras.layers.Dense(test_h2, activation=tf.nn.sigmoid),\n",
    "    tf.keras.layers.Dense(test_w2, activation=tf.nn.sigmoid),\n",
    "    tf.keras.layers.Dense(10)\n",
    "])\n",
    "model.compile(loss=loss, metrics=[accuracy], optimizer=optimizer)\n",
    "h2 = model.fit(dataset, epochs=epochs, batch_size=None, verbose=0)\n",
    "score = model.evaluate(cur_x_test, cur_y_test, verbose=0)\n",
    "pred2 = np.argmax(model.predict(cur_x_test, verbose=0), axis=1)\n",
    "\n",
    "print(f\"3 layers with sigmoid & sigmoid ({test_h2}х{test_w2})\")\n",
    "print(\"Testing loss:\", score[0])\n",
    "print(\"Testing accuracy:\", score[1])\n",
    "print(\"Loss:\", h2.history['loss'][-1])\n",
    "print(\"Accuracy:\", h2.history['sparse_categorical_accuracy'][-1], '\\n')\n",
    "\n",
    "test_h3 = 512\n",
    "test_w3 = 512\n",
    "\n",
    "model = tf.keras.Sequential([\n",
    "    tf.keras.layers.Dense(test_h3, activation=tf.nn.sigmoid),\n",
    "    tf.keras.layers.Dense(test_w3, activation=tf.nn.sigmoid),\n",
    "    tf.keras.layers.Dense(10)\n",
    "])\n",
    "model.compile(loss=loss, metrics=[accuracy], optimizer=optimizer)\n",
    "h3 = model.fit(dataset, epochs=epochs, batch_size=None, verbose=0)\n",
    "score = model.evaluate(cur_x_test, cur_y_test, verbose=0)\n",
    "pred3 = np.argmax(model.predict(cur_x_test, verbose=0), axis=1)\n",
    "\n",
    "print(f\"3 layers with sigmoid & sigmoid ({test_h3}х{test_w3})\")\n",
    "print(\"Testing loss:\", score[0])\n",
    "print(\"Testing accuracy:\", score[1])\n",
    "print(\"Loss:\", h3.history['loss'][-1])\n",
    "print(\"Accuracy:\", h3.history['sparse_categorical_accuracy'][-1], '\\n')\n",
    "\n",
    "\n",
    "\n"
   ]
  },
  {
   "cell_type": "markdown",
   "metadata": {},
   "source": [
    "## Confusion matrix"
   ]
  },
  {
   "cell_type": "code",
   "execution_count": 9,
   "metadata": {},
   "outputs": [
    {
     "name": "stdout",
     "output_type": "stream",
     "text": [
      "[[854   0  16  30   3   2  87   0   8   0]\n",
      " [  3 951   6  29   6   0   5   0   0   0]\n",
      " [ 13   1 782  13 123   0  68   0   0   0]\n",
      " [ 35   7   9 895  26   0  25   0   3   0]\n",
      " [  0   0  99  41 795   0  64   0   1   0]\n",
      " [  0   0   0   1   0 934   0  48   1  16]\n",
      " [159   1 102  32  72   0 625   0   9   0]\n",
      " [  0   0   0   0   0  25   0 955   0  20]\n",
      " [  3   1   7   7   5   3  10   4 960   0]\n",
      " [  0   0   0   0   0   8   1  48   0 943]] \n",
      "\n",
      "[[862   3  27  30  11   0  53   0  14   0]\n",
      " [  3 963   2  22   7   0   1   0   2   0]\n",
      " [ 12   1 739  12 211   0  24   0   1   0]\n",
      " [ 31  18  12 869  53   1  14   0   2   0]\n",
      " [  0   0  66  24 894   0  15   0   1   0]\n",
      " [  0   0   0   1   0 941   0  39   4  15]\n",
      " [178   1 129  37 212   0 423   0  20   0]\n",
      " [  0   0   0   0   0  28   0 956   0  16]\n",
      " [  0   1   4   4   8   2   1   3 977   0]\n",
      " [  0   0   0   1   0   9   1  51   0 938]] \n",
      "\n",
      "[[878   0  16  41   6   2  41   0  16   0]\n",
      " [  3 964   2  23   4   0   1   0   3   0]\n",
      " [ 17   0 782  13 125   0  56   0   7   0]\n",
      " [ 27   6  12 903  38   0   9   0   5   0]\n",
      " [  0   0  90  33 827   0  42   0   8   0]\n",
      " [  0   0   0   1   0 963   0  21   2  13]\n",
      " [202   1  97  40  83   0 547   0  30   0]\n",
      " [  0   0   0   0   0  33   0 937   0  30]\n",
      " [  1   0   4   3   3   3   0   2 984   0]\n",
      " [  0   0   0   0   0  15   1  36   0 948]] \n",
      "\n"
     ]
    }
   ],
   "source": [
    "from sklearn.metrics import confusion_matrix\n",
    "print(confusion_matrix(cur_y_test, pred1), \"\\n\")\n",
    "print(confusion_matrix(cur_y_test, pred2), \"\\n\")\n",
    "print(confusion_matrix(cur_y_test, pred3), \"\\n\")\n"
   ]
  },
  {
   "cell_type": "markdown",
   "metadata": {
    "pycharm": {
     "name": "#%% md\n"
    }
   },
   "source": [
    "Можно сделать вывод, что по результатам проведенного тестирования ширина слоев сети не сильно влияет на точность. \n"
   ]
  }
 ],
 "metadata": {
  "kernelspec": {
   "display_name": "Python 3",
   "language": "python",
   "name": "python3"
  },
  "language_info": {
   "codemirror_mode": {
    "name": "ipython",
    "version": 3
   },
   "file_extension": ".py",
   "mimetype": "text/x-python",
   "name": "python",
   "nbconvert_exporter": "python",
   "pygments_lexer": "ipython3",
   "version": "3.9.2"
  }
 },
 "nbformat": 4,
 "nbformat_minor": 4
}
